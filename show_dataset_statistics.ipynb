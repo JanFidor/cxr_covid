{
 "cells": [
  {
   "cell_type": "code",
   "execution_count": 1,
   "metadata": {},
   "outputs": [],
   "source": [
    "import pandas\n",
    "\n",
    "from datasets import (\n",
    "    GitHubCOVIDDataset,\n",
    "    BIMCVCOVIDDataset,\n",
    "    ChestXray14Dataset,\n",
    "    PadChestDataset,\n",
    "    BIMCVNegativeDataset, \n",
    "    DomainConfoundedDataset\n",
    ")\n",
    "SEED = 42\n",
    "\n",
    "\n",
    "def prepare_dataset_1(split_name):\n",
    "    trainds = DomainConfoundedDataset(\n",
    "            ChestXray14Dataset(fold='train', labels='chestx-ray14', random_state=SEED),\n",
    "            GitHubCOVIDDataset(fold='train', labels='chestx-ray14', random_state=SEED)\n",
    "            )\n",
    "\n",
    "    valds = DomainConfoundedDataset(\n",
    "            ChestXray14Dataset(fold='val', labels='chestx-ray14', random_state=SEED),\n",
    "            GitHubCOVIDDataset(fold='val', labels='chestx-ray14', random_state=SEED)\n",
    "            )\n",
    "    \n",
    "    split_dir = f\"splits/{split_name}/dataset1\"\n",
    "\n",
    "    trainds.ds1.df = pandas.read_csv(f\"{split_dir}/chestxray-train.csv\")\n",
    "    trainds.ds1.meta_df = pandas.read_csv(f\"{split_dir}/chestxray-trainmeta.csv\")\n",
    "\n",
    "    valds.ds1.df = pandas.read_csv(f\"{split_dir}/chestxray-val.csv\")\n",
    "    valds.ds1.meta_df = pandas.read_csv(f\"{split_dir}/chestxray-valmeta.csv\")\n",
    "\n",
    "    trainds.ds2.df = pandas.read_csv(f\"{split_dir}/padchest-train.csv\")\n",
    "    valds.ds2.df = pandas.read_csv(f\"{split_dir}/padchest-val.csv\")\n",
    "\n",
    "    return trainds, valds\n",
    "\n",
    "def prepare_dataset_2(split_name):\n",
    "    trainds = DomainConfoundedDataset(\n",
    "            PadChestDataset(fold='train', labels='chestx-ray14', random_state=SEED),\n",
    "            BIMCVCOVIDDataset(fold='train', labels='chestx-ray14', random_state=SEED)\n",
    "            )\n",
    "    valds = DomainConfoundedDataset(\n",
    "            PadChestDataset(fold='val', labels='chestx-ray14', random_state=SEED),\n",
    "            BIMCVCOVIDDataset(fold='val', labels='chestx-ray14', random_state=SEED)\n",
    "            )\n",
    "    \n",
    "    split_dir = f\"splits/{split_name}/dataset2\"\n",
    "\n",
    "    trainds.ds1.df = pandas.read_csv(f\"{split_dir}/padchest-train.csv\")\n",
    "    valds.ds1.df = pandas.read_csv(f\"{split_dir}/padchest-val.csv\")\n",
    "\n",
    "    trainds.ds2.df = pandas.read_csv(f\"{split_dir}/bimcv-train.csv\")\n",
    "    valds.ds2.df = pandas.read_csv(f\"{split_dir}/bimcv-val.csv\")\n",
    "\n",
    "    return trainds, valds\n",
    "\n",
    "def prepare_dataset_3(split_name):\n",
    "    trainds = DomainConfoundedDataset(\n",
    "            BIMCVNegativeDataset(fold='all', labels='chestx-ray14', random_state=SEED),\n",
    "            BIMCVCOVIDDataset(fold='all', labels='chestx-ray14', random_state=SEED)\n",
    "            )\n",
    "    valds = DomainConfoundedDataset(\n",
    "            BIMCVNegativeDataset(fold='all', labels='chestx-ray14', random_state=SEED),\n",
    "            BIMCVCOVIDDataset(fold='all', labels='chestx-ray14', random_state=SEED)\n",
    "            )\n",
    "    \n",
    "    split_dir = f\"splits/{split_name}/dataset3\"\n",
    "    \n",
    "    trainds.ds1.df = pandas.read_csv(f\"{split_dir}/negative-train.csv\")\n",
    "    valds.ds1.df = pandas.read_csv(f\"{split_dir}/negative-val.csv\")\n",
    "\n",
    "    trainds.ds2.df = pandas.read_csv(f\"{split_dir}/positive-train.csv\")\n",
    "    valds.ds2.df = pandas.read_csv(f\"{split_dir}/positive-val.csv\")\n",
    "\n",
    "    trainds.len1 = len(trainds.ds1)\n",
    "    trainds.len2 = len(trainds.ds2)\n",
    "    valds.len1 = len(valds.ds1)\n",
    "    valds.len2 = len(valds.ds2)\n",
    "    \n",
    "    return trainds, valds"
   ]
  },
  {
   "cell_type": "code",
   "execution_count": 2,
   "metadata": {},
   "outputs": [],
   "source": [
    "trainds, valds = prepare_dataset_3(\"42\")"
   ]
  },
  {
   "cell_type": "code",
   "execution_count": 3,
   "metadata": {},
   "outputs": [],
   "source": [
    "import pandas as pd\n",
    "import numpy as np\n",
    "from sklearn.metrics import roc_auc_score\n",
    "\n",
    "def spurious_baseline_model(dataset, column):\n",
    "    df = pd.concat([dataset.ds1.df, dataset.ds2.df])\n",
    "    \n",
    "    discriminator = df[column]\n",
    "\n",
    "    print(\"Column:\", column)\n",
    "    for v in discriminator.unique():\n",
    "        predictions = (df[column] == v).to_numpy(dtype=int)\n",
    "        labels = dataset.get_all_labels()[:, -1]\n",
    "\n",
    "        print(f\"Discriminator {v}, {predictions.sum() / len(df)}%: auroc=\", roc_auc_score(labels, predictions))"
   ]
  },
  {
   "cell_type": "code",
   "execution_count": 4,
   "metadata": {},
   "outputs": [
    {
     "name": "stdout",
     "output_type": "stream",
     "text": [
      "Train\n",
      "Column: projection\n",
      "Discriminator PA, 0.46474067333939945%: auroc= 0.4727786748450301\n",
      "Discriminator AP, 0.5352593266606005%: auroc= 0.5272213251549699\n",
      "Val\n",
      "Column: projection\n",
      "Discriminator AP, 0.610236220472441%: auroc= 0.42391304347826086\n",
      "Discriminator PA, 0.38976377952755903%: auroc= 0.5760869565217391\n",
      "Train\n",
      "Column: modality\n",
      "Discriminator CR, 0.5409463148316651%: auroc= 0.5515897958299016\n",
      "Discriminator DX, 0.45905368516833484%: auroc= 0.44841020417009836\n",
      "Val\n",
      "Column: modality\n",
      "Discriminator DX, 0.4094488188976378%: auroc= 0.4934782608695652\n",
      "Discriminator CR, 0.5905511811023622%: auroc= 0.5065217391304347\n",
      "Train\n",
      "Column: sex\n",
      "Discriminator F, 0.4870336669699727%: auroc= 0.4544839214241334\n",
      "Discriminator M, 0.5129663330300273%: auroc= 0.5455160785758666\n",
      "Val\n",
      "Column: sex\n",
      "Discriminator F, 0.5433070866141733%: auroc= 0.460248447204969\n",
      "Discriminator M, 0.4566929133858268%: auroc= 0.5397515527950311\n",
      "Train\n",
      "Column: photometric_interpretation\n",
      "Discriminator MONOCHROME2, 0.6894904458598726%: auroc= 0.46160883292152527\n",
      "Discriminator MONOCHROME1, 0.3105095541401274%: auroc= 0.5383911670784748\n",
      "Val\n",
      "Column: photometric_interpretation\n",
      "Discriminator MONOCHROME1, 0.35039370078740156%: auroc= 0.5243788819875776\n",
      "Discriminator MONOCHROME2, 0.6496062992125984%: auroc= 0.4756211180124224\n"
     ]
    }
   ],
   "source": [
    "for column in ['projection', 'modality', 'sex', 'photometric_interpretation', ]:\n",
    "    print(\"Train\")\n",
    "    spurious_baseline_model(trainds, column)\n",
    "    print(\"Val\")\n",
    "    spurious_baseline_model(valds, column)"
   ]
  },
  {
   "cell_type": "code",
   "execution_count": 5,
   "metadata": {},
   "outputs": [
    {
     "data": {
      "text/plain": [
       "Index(['Unnamed: 0.1', 'Unnamed: 0', 'path', 'participant', 'projection',\n",
       "       'modality', 'manufacturer', 'sex', 'photometric_interpretation',\n",
       "       'window_center', 'window_width', 'study_date', 'study_time', 'age',\n",
       "       'lut', 'lut_min', 'rescale_slope', 'rescale_intercept', 'bits_stored'],\n",
       "      dtype='object')"
      ]
     },
     "execution_count": 5,
     "metadata": {},
     "output_type": "execute_result"
    }
   ],
   "source": [
    "trainds.ds1.df.columns"
   ]
  },
  {
   "cell_type": "code",
   "execution_count": 6,
   "metadata": {},
   "outputs": [
    {
     "data": {
      "text/html": [
       "<div>\n",
       "<style scoped>\n",
       "    .dataframe tbody tr th:only-of-type {\n",
       "        vertical-align: middle;\n",
       "    }\n",
       "\n",
       "    .dataframe tbody tr th {\n",
       "        vertical-align: top;\n",
       "    }\n",
       "\n",
       "    .dataframe thead th {\n",
       "        text-align: right;\n",
       "    }\n",
       "</style>\n",
       "<table border=\"1\" class=\"dataframe\">\n",
       "  <thead>\n",
       "    <tr style=\"text-align: right;\">\n",
       "      <th></th>\n",
       "      <th>Unnamed: 0.1</th>\n",
       "      <th>Unnamed: 0</th>\n",
       "      <th>path</th>\n",
       "      <th>participant</th>\n",
       "      <th>projection</th>\n",
       "      <th>modality</th>\n",
       "      <th>manufacturer</th>\n",
       "      <th>sex</th>\n",
       "      <th>photometric_interpretation</th>\n",
       "      <th>window_center</th>\n",
       "      <th>window_width</th>\n",
       "      <th>study_date</th>\n",
       "      <th>study_time</th>\n",
       "      <th>age</th>\n",
       "      <th>lut</th>\n",
       "      <th>lut_min</th>\n",
       "      <th>rescale_slope</th>\n",
       "      <th>rescale_intercept</th>\n",
       "      <th>bits_stored</th>\n",
       "    </tr>\n",
       "  </thead>\n",
       "  <tbody>\n",
       "    <tr>\n",
       "      <th>0</th>\n",
       "      <td>3</td>\n",
       "      <td>3</td>\n",
       "      <td>bimcv-/sub-S07337/ses-E12991/mod-rx/sub-S07337...</td>\n",
       "      <td>sub-S07337</td>\n",
       "      <td>PA</td>\n",
       "      <td>CR</td>\n",
       "      <td>SIEMENS</td>\n",
       "      <td>F</td>\n",
       "      <td>MONOCHROME2</td>\n",
       "      <td>1533.0</td>\n",
       "      <td>2888.0</td>\n",
       "      <td>20200329.0</td>\n",
       "      <td>121317.812</td>\n",
       "      <td>26.0</td>\n",
       "      <td>NaN</td>\n",
       "      <td>NaN</td>\n",
       "      <td>NaN</td>\n",
       "      <td>NaN</td>\n",
       "      <td>NaN</td>\n",
       "    </tr>\n",
       "    <tr>\n",
       "      <th>1</th>\n",
       "      <td>6</td>\n",
       "      <td>6</td>\n",
       "      <td>bimcv-/sub-S07665/ses-E13559/mod-rx/sub-S07665...</td>\n",
       "      <td>sub-S07665</td>\n",
       "      <td>PA</td>\n",
       "      <td>CR</td>\n",
       "      <td>Philips Medical Systems</td>\n",
       "      <td>M</td>\n",
       "      <td>MONOCHROME2</td>\n",
       "      <td>2047.0</td>\n",
       "      <td>4095.0</td>\n",
       "      <td>20200404.0</td>\n",
       "      <td>144109.265</td>\n",
       "      <td>56.0</td>\n",
       "      <td>NaN</td>\n",
       "      <td>NaN</td>\n",
       "      <td>NaN</td>\n",
       "      <td>NaN</td>\n",
       "      <td>NaN</td>\n",
       "    </tr>\n",
       "    <tr>\n",
       "      <th>2</th>\n",
       "      <td>9</td>\n",
       "      <td>9</td>\n",
       "      <td>bimcv-/sub-S06628/ses-E11817/mod-rx/sub-S06628...</td>\n",
       "      <td>sub-S06628</td>\n",
       "      <td>AP</td>\n",
       "      <td>DX</td>\n",
       "      <td>Carestream Health</td>\n",
       "      <td>M</td>\n",
       "      <td>MONOCHROME2</td>\n",
       "      <td>2048.0</td>\n",
       "      <td>4096.0</td>\n",
       "      <td>20200324.0</td>\n",
       "      <td>220622.895</td>\n",
       "      <td>2.0</td>\n",
       "      <td>NaN</td>\n",
       "      <td>NaN</td>\n",
       "      <td>NaN</td>\n",
       "      <td>NaN</td>\n",
       "      <td>NaN</td>\n",
       "    </tr>\n",
       "    <tr>\n",
       "      <th>3</th>\n",
       "      <td>10</td>\n",
       "      <td>10</td>\n",
       "      <td>bimcv-/sub-S06081/ses-E11014/mod-rx/sub-S06081...</td>\n",
       "      <td>sub-S06081</td>\n",
       "      <td>PA</td>\n",
       "      <td>CR</td>\n",
       "      <td>Agfa</td>\n",
       "      <td>F</td>\n",
       "      <td>MONOCHROME2</td>\n",
       "      <td>2048.0</td>\n",
       "      <td>4096.0</td>\n",
       "      <td>20200316.0</td>\n",
       "      <td>184345.000</td>\n",
       "      <td>NaN</td>\n",
       "      <td>NaN</td>\n",
       "      <td>NaN</td>\n",
       "      <td>NaN</td>\n",
       "      <td>NaN</td>\n",
       "      <td>NaN</td>\n",
       "    </tr>\n",
       "    <tr>\n",
       "      <th>4</th>\n",
       "      <td>11</td>\n",
       "      <td>11</td>\n",
       "      <td>bimcv-/sub-S06051/ses-E10963/mod-rx/sub-S06051...</td>\n",
       "      <td>sub-S06051</td>\n",
       "      <td>AP</td>\n",
       "      <td>DX</td>\n",
       "      <td>Agfa</td>\n",
       "      <td>F</td>\n",
       "      <td>MONOCHROME1</td>\n",
       "      <td>NaN</td>\n",
       "      <td>NaN</td>\n",
       "      <td>20200316.0</td>\n",
       "      <td>130608.000</td>\n",
       "      <td>NaN</td>\n",
       "      <td>[1, 2, 3, 4, 4, 5, 6, 7, 8, 9, 9, 10, 11, 12, ...</td>\n",
       "      <td>8192.0</td>\n",
       "      <td>1.0</td>\n",
       "      <td>0.0</td>\n",
       "      <td>15.0</td>\n",
       "    </tr>\n",
       "  </tbody>\n",
       "</table>\n",
       "</div>"
      ],
      "text/plain": [
       "   Unnamed: 0.1  Unnamed: 0  \\\n",
       "0             3           3   \n",
       "1             6           6   \n",
       "2             9           9   \n",
       "3            10          10   \n",
       "4            11          11   \n",
       "\n",
       "                                                path participant projection  \\\n",
       "0  bimcv-/sub-S07337/ses-E12991/mod-rx/sub-S07337...  sub-S07337         PA   \n",
       "1  bimcv-/sub-S07665/ses-E13559/mod-rx/sub-S07665...  sub-S07665         PA   \n",
       "2  bimcv-/sub-S06628/ses-E11817/mod-rx/sub-S06628...  sub-S06628         AP   \n",
       "3  bimcv-/sub-S06081/ses-E11014/mod-rx/sub-S06081...  sub-S06081         PA   \n",
       "4  bimcv-/sub-S06051/ses-E10963/mod-rx/sub-S06051...  sub-S06051         AP   \n",
       "\n",
       "  modality             manufacturer sex photometric_interpretation  \\\n",
       "0       CR                  SIEMENS   F                MONOCHROME2   \n",
       "1       CR  Philips Medical Systems   M                MONOCHROME2   \n",
       "2       DX        Carestream Health   M                MONOCHROME2   \n",
       "3       CR                     Agfa   F                MONOCHROME2   \n",
       "4       DX                     Agfa   F                MONOCHROME1   \n",
       "\n",
       "   window_center  window_width  study_date  study_time   age  \\\n",
       "0         1533.0        2888.0  20200329.0  121317.812  26.0   \n",
       "1         2047.0        4095.0  20200404.0  144109.265  56.0   \n",
       "2         2048.0        4096.0  20200324.0  220622.895   2.0   \n",
       "3         2048.0        4096.0  20200316.0  184345.000   NaN   \n",
       "4            NaN           NaN  20200316.0  130608.000   NaN   \n",
       "\n",
       "                                                 lut  lut_min  rescale_slope  \\\n",
       "0                                                NaN      NaN            NaN   \n",
       "1                                                NaN      NaN            NaN   \n",
       "2                                                NaN      NaN            NaN   \n",
       "3                                                NaN      NaN            NaN   \n",
       "4  [1, 2, 3, 4, 4, 5, 6, 7, 8, 9, 9, 10, 11, 12, ...   8192.0            1.0   \n",
       "\n",
       "   rescale_intercept  bits_stored  \n",
       "0                NaN          NaN  \n",
       "1                NaN          NaN  \n",
       "2                NaN          NaN  \n",
       "3                NaN          NaN  \n",
       "4                0.0         15.0  "
      ]
     },
     "execution_count": 6,
     "metadata": {},
     "output_type": "execute_result"
    }
   ],
   "source": [
    "trainds.ds1.df.head()"
   ]
  },
  {
   "cell_type": "code",
   "execution_count": 7,
   "metadata": {},
   "outputs": [],
   "source": [
    "def dataset_to_dfs(dataset):\n",
    "    important_columns = [\n",
    "        'projection',\n",
    "        'modality',\n",
    "        'sex', \n",
    "        'photometric_interpretation',\n",
    "        'manufacturer',\n",
    "    ]\n",
    "    df = pd.concat([dataset.ds1.df, dataset.ds2.df])\n",
    "    cat_df = df[important_columns].astype(\"category\")\n",
    "    cat_df['age'] = df['age']\n",
    "    labels = dataset.get_all_labels()[:, -1]\n",
    "\n",
    "    return cat_df, pd.Series(labels)"
   ]
  },
  {
   "cell_type": "code",
   "execution_count": 8,
   "metadata": {},
   "outputs": [],
   "source": [
    "from xgboost import XGBClassifier\n",
    "\n",
    "X_train, y_train = dataset_to_dfs(trainds)\n",
    "X_test, y_test = dataset_to_dfs(valds)\n",
    "    \n",
    "# create model instance\n",
    "bst = XGBClassifier(objective='binary:logistic', enable_categorical=True)\n",
    "# fit model\n",
    "bst.fit(X_train, y_train)\n",
    "# make predictions\n",
    "preds = bst.predict(X_test)"
   ]
  },
  {
   "cell_type": "code",
   "execution_count": 9,
   "metadata": {},
   "outputs": [
    {
     "data": {
      "text/plain": [
       "np.float64(0.5813664596273291)"
      ]
     },
     "execution_count": 9,
     "metadata": {},
     "output_type": "execute_result"
    }
   ],
   "source": [
    "roc_auc_score(y_test, preds)"
   ]
  },
  {
   "cell_type": "code",
   "execution_count": 12,
   "metadata": {},
   "outputs": [
    {
     "data": {
      "text/plain": [
       "np.float64(0.6749565614749953)"
      ]
     },
     "execution_count": 12,
     "metadata": {},
     "output_type": "execute_result"
    }
   ],
   "source": [
    "roc_auc_score(y_train, bst.predict(X_train))"
   ]
  },
  {
   "cell_type": "code",
   "execution_count": 10,
   "metadata": {},
   "outputs": [
    {
     "data": {
      "text/plain": [
       "{'projection': 1.0412590503692627,\n",
       " 'modality': 1.442354440689087,\n",
       " 'sex': 0.794089138507843,\n",
       " 'photometric_interpretation': 1.2782044410705566,\n",
       " 'manufacturer': 2.9244885444641113,\n",
       " 'age': 0.9429316520690918}"
      ]
     },
     "execution_count": 10,
     "metadata": {},
     "output_type": "execute_result"
    }
   ],
   "source": [
    "bst.get_booster().get_score(importance_type='gain')"
   ]
  },
  {
   "cell_type": "code",
   "execution_count": 11,
   "metadata": {},
   "outputs": [
    {
     "data": {
      "text/plain": [
       "'bimcv-/sub-S05136/ses-E09718/mod-rx/sub-S05136_ses-E09718_run-1_bp-chest_vp-ap_cr.png'"
      ]
     },
     "execution_count": 11,
     "metadata": {},
     "output_type": "execute_result"
    }
   ],
   "source": [
    "import pandas as pd\n",
    "pd.read_csv(\"/home/janfidor/Programming/Research/cxr_covid/splits/42/dataset3/negative-val.csv\").path.iloc[5]\n"
   ]
  }
 ],
 "metadata": {
  "kernelspec": {
   "display_name": "cxr",
   "language": "python",
   "name": "python3"
  },
  "language_info": {
   "codemirror_mode": {
    "name": "ipython",
    "version": 3
   },
   "file_extension": ".py",
   "mimetype": "text/x-python",
   "name": "python",
   "nbconvert_exporter": "python",
   "pygments_lexer": "ipython3",
   "version": "3.12.4"
  }
 },
 "nbformat": 4,
 "nbformat_minor": 2
}
