{
 "cells": [
  {
   "cell_type": "code",
   "execution_count": null,
   "metadata": {},
   "outputs": [],
   "source": [
    "import pandas\n",
    "\n",
    "from datasets import (\n",
    "    GitHubCOVIDDataset,\n",
    "    BIMCVCOVIDDataset,\n",
    "    ChestXray14Dataset,\n",
    "    PadChestDataset,\n",
    "    BIMCVNegativeDataset, \n",
    "    DomainConfoundedDataset\n",
    ")\n",
    "SEED = 42\n",
    "\n",
    "\n",
    "def prepare_dataset_1(split_name):\n",
    "    trainds = DomainConfoundedDataset(\n",
    "            ChestXray14Dataset(fold='train', labels='chestx-ray14', random_state=SEED),\n",
    "            GitHubCOVIDDataset(fold='train', labels='chestx-ray14', random_state=SEED)\n",
    "            )\n",
    "\n",
    "    valds = DomainConfoundedDataset(\n",
    "            ChestXray14Dataset(fold='val', labels='chestx-ray14', random_state=SEED),\n",
    "            GitHubCOVIDDataset(fold='val', labels='chestx-ray14', random_state=SEED)\n",
    "            )\n",
    "    \n",
    "    split_dir = f\"splits/{split_name}/dataset1\"\n",
    "\n",
    "    trainds.ds1.df = pandas.read_csv(f\"{split_dir}/chestxray-train.csv\")\n",
    "    trainds.ds1.meta_df = pandas.read_csv(f\"{split_dir}/chestxray-trainmeta.csv\")\n",
    "\n",
    "    valds.ds1.df = pandas.read_csv(f\"{split_dir}/chestxray-val.csv\")\n",
    "    valds.ds1.meta_df = pandas.read_csv(f\"{split_dir}/chestxray-valmeta.csv\")\n",
    "\n",
    "    trainds.ds2.df = pandas.read_csv(f\"{split_dir}/padchest-train.csv\")\n",
    "    valds.ds2.df = pandas.read_csv(f\"{split_dir}/padchest-val.csv\")\n",
    "\n",
    "    return trainds, valds\n",
    "\n",
    "def prepare_dataset_2(split_name):\n",
    "    trainds = DomainConfoundedDataset(\n",
    "            PadChestDataset(fold='train', labels='chestx-ray14', random_state=SEED),\n",
    "            BIMCVCOVIDDataset(fold='train', labels='chestx-ray14', random_state=SEED)\n",
    "            )\n",
    "    valds = DomainConfoundedDataset(\n",
    "            PadChestDataset(fold='val', labels='chestx-ray14', random_state=SEED),\n",
    "            BIMCVCOVIDDataset(fold='val', labels='chestx-ray14', random_state=SEED)\n",
    "            )\n",
    "    \n",
    "    split_dir = f\"splits/{split_name}/dataset2\"\n",
    "\n",
    "    trainds.ds1.df = pandas.read_csv(f\"{split_dir}/padchest-train.csv\")\n",
    "    valds.ds1.df = pandas.read_csv(f\"{split_dir}/padchest-val.csv\")\n",
    "\n",
    "    trainds.ds2.df = pandas.read_csv(f\"{split_dir}/bimcv-train.csv\")\n",
    "    valds.ds2.df = pandas.read_csv(f\"{split_dir}/bimcv-val.csv\")\n",
    "\n",
    "    return trainds, valds\n",
    "\n",
    "def prepare_dataset_3(split_name):\n",
    "    trainds = DomainConfoundedDataset(\n",
    "            BIMCVNegativeDataset(fold='all', labels='chestx-ray14', random_state=SEED),\n",
    "            BIMCVCOVIDDataset(fold='all', labels='chestx-ray14', random_state=SEED)\n",
    "            )\n",
    "    valds = DomainConfoundedDataset(\n",
    "            BIMCVNegativeDataset(fold='all', labels='chestx-ray14', random_state=SEED),\n",
    "            BIMCVCOVIDDataset(fold='all', labels='chestx-ray14', random_state=SEED)\n",
    "            )\n",
    "    \n",
    "    split_dir = f\"splits/{split_name}/dataset3\"\n",
    "    \n",
    "    trainds.ds1.df = pandas.read_csv(f\"{split_dir}/traindf1.csv\")\n",
    "    valds.ds1.df = pandas.read_csv(f\"{split_dir}/valdf1.csv\")\n",
    "\n",
    "    trainds.ds2.df = pandas.read_csv(f\"{split_dir}/traindf2.csv\")\n",
    "    valds.ds2.df = pandas.read_csv(f\"{split_dir}/valdf2.csv\")\n",
    "\n",
    "    trainds.len1 = len(trainds.ds1)\n",
    "    trainds.len2 = len(trainds.ds2)\n",
    "    valds.len1 = len(valds.ds1)\n",
    "    valds.len2 = len(valds.ds2)\n",
    "    \n",
    "    return trainds, valds"
   ]
  },
  {
   "cell_type": "code",
   "execution_count": null,
   "metadata": {},
   "outputs": [],
   "source": [
    "trainds, valds = prepare_dataset_3(\"42\")"
   ]
  },
  {
   "cell_type": "code",
   "execution_count": null,
   "metadata": {},
   "outputs": [],
   "source": [
    "trainds.get_all_labels()[:, -1].shape"
   ]
  },
  {
   "cell_type": "code",
   "execution_count": null,
   "metadata": {},
   "outputs": [],
   "source": [
    "import pandas as pd\n",
    "import numpy as np\n",
    "from sklearn.metrics import roc_auc_score\n",
    "\n",
    "def spurious_baseline_model(dataset, column):\n",
    "    df = pd.concat([dataset.ds1.df, dataset.ds2.df])\n",
    "    \n",
    "    discriminator = df[column]\n",
    "\n",
    "    print(\"Column:\", column)\n",
    "    for v in discriminator.unique():\n",
    "        predictions = (df[column] == v).to_numpy(dtype=int)\n",
    "        labels = dataset.get_all_labels()[:, -1]\n",
    "\n",
    "        print(f\"Discriminator {v}, {predictions.sum() / len(df)}%: auroc=\", roc_auc_score(labels, predictions))"
   ]
  },
  {
   "cell_type": "code",
   "execution_count": null,
   "metadata": {},
   "outputs": [],
   "source": [
    "trainds.ds1.df.columns"
   ]
  },
  {
   "cell_type": "code",
   "execution_count": null,
   "metadata": {},
   "outputs": [],
   "source": [
    "trainds.ds1.df[\"manufacturer\"].unique()"
   ]
  },
  {
   "cell_type": "code",
   "execution_count": null,
   "metadata": {},
   "outputs": [],
   "source": [
    "trainds.ds1.df['photometric_interpretation'].unique()"
   ]
  },
  {
   "cell_type": "code",
   "execution_count": 43,
   "metadata": {},
   "outputs": [
    {
     "name": "stdout",
     "output_type": "stream",
     "text": [
      "Train\n",
      "Column: projection\n",
      "Discriminator PA, 0.46474067333939945%: auroc= 0.4727786748450301\n",
      "Discriminator AP, 0.5352593266606005%: auroc= 0.5272213251549699\n",
      "Val\n",
      "Column: projection\n",
      "Discriminator AP, 0.610236220472441%: auroc= 0.42391304347826086\n",
      "Discriminator PA, 0.38976377952755903%: auroc= 0.5760869565217391\n",
      "Train\n",
      "Column: modality\n",
      "Discriminator CR, 0.5409463148316651%: auroc= 0.5515897958299016\n",
      "Discriminator DX, 0.45905368516833484%: auroc= 0.44841020417009836\n",
      "Val\n",
      "Column: modality\n",
      "Discriminator DX, 0.4094488188976378%: auroc= 0.4934782608695652\n",
      "Discriminator CR, 0.5905511811023622%: auroc= 0.5065217391304347\n",
      "Train\n",
      "Column: sex\n",
      "Discriminator F, 0.4870336669699727%: auroc= 0.4544839214241334\n",
      "Discriminator M, 0.5129663330300273%: auroc= 0.5455160785758666\n",
      "Val\n",
      "Column: sex\n",
      "Discriminator F, 0.5433070866141733%: auroc= 0.460248447204969\n",
      "Discriminator M, 0.4566929133858268%: auroc= 0.5397515527950311\n",
      "Train\n",
      "Column: photometric_interpretation\n",
      "Discriminator MONOCHROME2, 0.6894904458598726%: auroc= 0.46160883292152527\n",
      "Discriminator MONOCHROME1, 0.3105095541401274%: auroc= 0.5383911670784748\n",
      "Val\n",
      "Column: photometric_interpretation\n",
      "Discriminator MONOCHROME1, 0.35039370078740156%: auroc= 0.5243788819875776\n",
      "Discriminator MONOCHROME2, 0.6496062992125984%: auroc= 0.4756211180124224\n"
     ]
    }
   ],
   "source": [
    "for column in ['projection', 'modality', 'sex', 'photometric_interpretation', ]:\n",
    "    print(\"Train\")\n",
    "    spurious_baseline_model(trainds, column)\n",
    "    print(\"Val\")\n",
    "    spurious_baseline_model(valds, column)"
   ]
  }
 ],
 "metadata": {
  "kernelspec": {
   "display_name": "cxr",
   "language": "python",
   "name": "python3"
  },
  "language_info": {
   "codemirror_mode": {
    "name": "ipython",
    "version": 3
   },
   "file_extension": ".py",
   "mimetype": "text/x-python",
   "name": "python",
   "nbconvert_exporter": "python",
   "pygments_lexer": "ipython3",
   "version": "3.8.19"
  }
 },
 "nbformat": 4,
 "nbformat_minor": 2
}
